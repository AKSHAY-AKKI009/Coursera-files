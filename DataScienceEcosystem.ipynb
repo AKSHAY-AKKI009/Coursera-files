{
 "cells": [
  {
   "cell_type": "markdown",
   "id": "0da17d3a",
   "metadata": {},
   "source": [
    "# Data Science Tools and Ecosystem"
   ]
  },
  {
   "cell_type": "markdown",
   "id": "7f3d2202",
   "metadata": {},
   "source": [
    "In this notebook, Data Science Tools and Ecosystem are summarized."
   ]
  },
  {
   "cell_type": "markdown",
   "id": "9b6b046a",
   "metadata": {},
   "source": [
    "Some of the popular languages that Data Scientists use are:\n",
    "\n",
    "1)Python\n",
    "2)R\n",
    "3)SQL"
   ]
  },
  {
   "cell_type": "markdown",
   "id": "3c7a43a9",
   "metadata": {},
   "source": [
    "Some of the commonly used libraries used by Data Scientists include:\n",
    "\n",
    "1)NumPy\n",
    "2)pandas\n",
    "3)Matplotlib\n"
   ]
  },
  {
   "cell_type": "markdown",
   "id": "7c75ce07",
   "metadata": {},
   "source": [
    " | Data Science Tools |\n",
    " |--------------------|\n",
    " |  Jupyter Notebook  |\n",
    " |      PyCharm       |\n",
    " | Visual Studio Code |"
   ]
  },
  {
   "cell_type": "markdown",
   "id": "771199e3",
   "metadata": {},
   "source": [
    "## Below are a few examples of evaluating arithmetic expressions in Python.\n"
   ]
  },
  {
   "cell_type": "code",
   "execution_count": 5,
   "id": "309a4fd8",
   "metadata": {},
   "outputs": [
    {
     "data": {
      "text/plain": [
       "17"
      ]
     },
     "execution_count": 5,
     "metadata": {},
     "output_type": "execute_result"
    }
   ],
   "source": [
    "# This is a simple arithmetic expression to multiply then add integers.\n",
    "result = (3 * 4) + 5\n",
    "result\n"
   ]
  },
  {
   "cell_type": "code",
   "execution_count": 6,
   "id": "9ac6160b",
   "metadata": {},
   "outputs": [
    {
     "data": {
      "text/plain": [
       "3.3333333333333335"
      ]
     },
     "execution_count": 6,
     "metadata": {},
     "output_type": "execute_result"
    }
   ],
   "source": [
    "# This will convert 200 minutes to hours by dividing by 60.\n",
    "minutes = 200\n",
    "hours = minutes / 60\n",
    "hours\n"
   ]
  },
  {
   "cell_type": "markdown",
   "id": "f8e321ac",
   "metadata": {},
   "source": [
    "**Objectives:**\n",
    "\n",
    "* List popular languages for Data Science.\n",
    "* (Add another objective related to your notebook content)\n",
    "* (Add another objective related to your notebook content)\n"
   ]
  },
  {
   "cell_type": "markdown",
   "id": "a48e0fc9",
   "metadata": {},
   "source": [
    "## Author\n",
    "\n",
    "Akshay G Sree\n"
   ]
  },
  {
   "cell_type": "code",
   "execution_count": null,
   "id": "63c5b0ba",
   "metadata": {},
   "outputs": [],
   "source": []
  }
 ],
 "metadata": {
  "kernelspec": {
   "display_name": "Python 3 (ipykernel)",
   "language": "python",
   "name": "python3"
  },
  "language_info": {
   "codemirror_mode": {
    "name": "ipython",
    "version": 3
   },
   "file_extension": ".py",
   "mimetype": "text/x-python",
   "name": "python",
   "nbconvert_exporter": "python",
   "pygments_lexer": "ipython3",
   "version": "3.9.7"
  }
 },
 "nbformat": 4,
 "nbformat_minor": 5
}
